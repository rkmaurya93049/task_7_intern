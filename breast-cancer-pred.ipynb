{
 "cells": [
  {
   "cell_type": "code",
   "execution_count": 1,
   "id": "24a942ef",
   "metadata": {
    "_cell_guid": "b1076dfc-b9ad-4769-8c92-a6c4dae69d19",
    "_uuid": "8f2839f25d086af736a60e9eeb907d3b93b6e0e5",
    "execution": {
     "iopub.execute_input": "2025-05-05T11:14:39.511170Z",
     "iopub.status.busy": "2025-05-05T11:14:39.510165Z",
     "iopub.status.idle": "2025-05-05T11:14:41.352675Z",
     "shell.execute_reply": "2025-05-05T11:14:41.351499Z"
    },
    "papermill": {
     "duration": 1.853439,
     "end_time": "2025-05-05T11:14:41.354398",
     "exception": false,
     "start_time": "2025-05-05T11:14:39.500959",
     "status": "completed"
    },
    "tags": []
   },
   "outputs": [
    {
     "name": "stdout",
     "output_type": "stream",
     "text": [
      "/kaggle/input/breast-cancer-dataset/breast-cancer.csv\n"
     ]
    }
   ],
   "source": [
    "# This Python 3 environment comes with many helpful analytics libraries installed\n",
    "# It is defined by the kaggle/python Docker image: https://github.com/kaggle/docker-python\n",
    "# For example, here's several helpful packages to load\n",
    "\n",
    "import numpy as np # linear algebra\n",
    "import pandas as pd # data processing, CSV file I/O (e.g. pd.read_csv)\n",
    "\n",
    "# Input data files are available in the read-only \"../input/\" directory\n",
    "# For example, running this (by clicking run or pressing Shift+Enter) will list all files under the input directory\n",
    "\n",
    "import os\n",
    "for dirname, _, filenames in os.walk('/kaggle/input'):\n",
    "    for filename in filenames:\n",
    "        print(os.path.join(dirname, filename))\n",
    "\n",
    "# You can write up to 20GB to the current directory (/kaggle/working/) that gets preserved as output when you create a version using \"Save & Run All\" \n",
    "# You can also write temporary files to /kaggle/temp/, but they won't be saved outside of the current session"
   ]
  },
  {
   "cell_type": "markdown",
   "id": "b6a63336",
   "metadata": {
    "papermill": {
     "duration": 0.006806,
     "end_time": "2025-05-05T11:14:41.369169",
     "exception": false,
     "start_time": "2025-05-05T11:14:41.362363",
     "status": "completed"
    },
    "tags": []
   },
   "source": [
    "# Loading the data:"
   ]
  },
  {
   "cell_type": "code",
   "execution_count": 2,
   "id": "32492e04",
   "metadata": {
    "execution": {
     "iopub.execute_input": "2025-05-05T11:14:41.385010Z",
     "iopub.status.busy": "2025-05-05T11:14:41.384535Z",
     "iopub.status.idle": "2025-05-05T11:14:41.423105Z",
     "shell.execute_reply": "2025-05-05T11:14:41.422301Z"
    },
    "papermill": {
     "duration": 0.048815,
     "end_time": "2025-05-05T11:14:41.424985",
     "exception": false,
     "start_time": "2025-05-05T11:14:41.376170",
     "status": "completed"
    },
    "tags": []
   },
   "outputs": [],
   "source": [
    "df=pd.read_csv(\"/kaggle/input/breast-cancer-dataset/breast-cancer.csv\",index_col=0)"
   ]
  },
  {
   "cell_type": "code",
   "execution_count": 3,
   "id": "37d3a50c",
   "metadata": {
    "execution": {
     "iopub.execute_input": "2025-05-05T11:14:41.441288Z",
     "iopub.status.busy": "2025-05-05T11:14:41.440539Z",
     "iopub.status.idle": "2025-05-05T11:14:41.476020Z",
     "shell.execute_reply": "2025-05-05T11:14:41.475183Z"
    },
    "papermill": {
     "duration": 0.045212,
     "end_time": "2025-05-05T11:14:41.477678",
     "exception": false,
     "start_time": "2025-05-05T11:14:41.432466",
     "status": "completed"
    },
    "tags": []
   },
   "outputs": [
    {
     "data": {
      "text/html": [
       "<div>\n",
       "<style scoped>\n",
       "    .dataframe tbody tr th:only-of-type {\n",
       "        vertical-align: middle;\n",
       "    }\n",
       "\n",
       "    .dataframe tbody tr th {\n",
       "        vertical-align: top;\n",
       "    }\n",
       "\n",
       "    .dataframe thead th {\n",
       "        text-align: right;\n",
       "    }\n",
       "</style>\n",
       "<table border=\"1\" class=\"dataframe\">\n",
       "  <thead>\n",
       "    <tr style=\"text-align: right;\">\n",
       "      <th></th>\n",
       "      <th>diagnosis</th>\n",
       "      <th>radius_mean</th>\n",
       "      <th>texture_mean</th>\n",
       "      <th>perimeter_mean</th>\n",
       "      <th>area_mean</th>\n",
       "      <th>smoothness_mean</th>\n",
       "      <th>compactness_mean</th>\n",
       "      <th>concavity_mean</th>\n",
       "      <th>concave points_mean</th>\n",
       "      <th>symmetry_mean</th>\n",
       "      <th>...</th>\n",
       "      <th>radius_worst</th>\n",
       "      <th>texture_worst</th>\n",
       "      <th>perimeter_worst</th>\n",
       "      <th>area_worst</th>\n",
       "      <th>smoothness_worst</th>\n",
       "      <th>compactness_worst</th>\n",
       "      <th>concavity_worst</th>\n",
       "      <th>concave points_worst</th>\n",
       "      <th>symmetry_worst</th>\n",
       "      <th>fractal_dimension_worst</th>\n",
       "    </tr>\n",
       "    <tr>\n",
       "      <th>id</th>\n",
       "      <th></th>\n",
       "      <th></th>\n",
       "      <th></th>\n",
       "      <th></th>\n",
       "      <th></th>\n",
       "      <th></th>\n",
       "      <th></th>\n",
       "      <th></th>\n",
       "      <th></th>\n",
       "      <th></th>\n",
       "      <th></th>\n",
       "      <th></th>\n",
       "      <th></th>\n",
       "      <th></th>\n",
       "      <th></th>\n",
       "      <th></th>\n",
       "      <th></th>\n",
       "      <th></th>\n",
       "      <th></th>\n",
       "      <th></th>\n",
       "      <th></th>\n",
       "    </tr>\n",
       "  </thead>\n",
       "  <tbody>\n",
       "    <tr>\n",
       "      <th>842302</th>\n",
       "      <td>M</td>\n",
       "      <td>17.99</td>\n",
       "      <td>10.38</td>\n",
       "      <td>122.80</td>\n",
       "      <td>1001.0</td>\n",
       "      <td>0.11840</td>\n",
       "      <td>0.27760</td>\n",
       "      <td>0.3001</td>\n",
       "      <td>0.14710</td>\n",
       "      <td>0.2419</td>\n",
       "      <td>...</td>\n",
       "      <td>25.38</td>\n",
       "      <td>17.33</td>\n",
       "      <td>184.60</td>\n",
       "      <td>2019.0</td>\n",
       "      <td>0.1622</td>\n",
       "      <td>0.6656</td>\n",
       "      <td>0.7119</td>\n",
       "      <td>0.2654</td>\n",
       "      <td>0.4601</td>\n",
       "      <td>0.11890</td>\n",
       "    </tr>\n",
       "    <tr>\n",
       "      <th>842517</th>\n",
       "      <td>M</td>\n",
       "      <td>20.57</td>\n",
       "      <td>17.77</td>\n",
       "      <td>132.90</td>\n",
       "      <td>1326.0</td>\n",
       "      <td>0.08474</td>\n",
       "      <td>0.07864</td>\n",
       "      <td>0.0869</td>\n",
       "      <td>0.07017</td>\n",
       "      <td>0.1812</td>\n",
       "      <td>...</td>\n",
       "      <td>24.99</td>\n",
       "      <td>23.41</td>\n",
       "      <td>158.80</td>\n",
       "      <td>1956.0</td>\n",
       "      <td>0.1238</td>\n",
       "      <td>0.1866</td>\n",
       "      <td>0.2416</td>\n",
       "      <td>0.1860</td>\n",
       "      <td>0.2750</td>\n",
       "      <td>0.08902</td>\n",
       "    </tr>\n",
       "    <tr>\n",
       "      <th>84300903</th>\n",
       "      <td>M</td>\n",
       "      <td>19.69</td>\n",
       "      <td>21.25</td>\n",
       "      <td>130.00</td>\n",
       "      <td>1203.0</td>\n",
       "      <td>0.10960</td>\n",
       "      <td>0.15990</td>\n",
       "      <td>0.1974</td>\n",
       "      <td>0.12790</td>\n",
       "      <td>0.2069</td>\n",
       "      <td>...</td>\n",
       "      <td>23.57</td>\n",
       "      <td>25.53</td>\n",
       "      <td>152.50</td>\n",
       "      <td>1709.0</td>\n",
       "      <td>0.1444</td>\n",
       "      <td>0.4245</td>\n",
       "      <td>0.4504</td>\n",
       "      <td>0.2430</td>\n",
       "      <td>0.3613</td>\n",
       "      <td>0.08758</td>\n",
       "    </tr>\n",
       "    <tr>\n",
       "      <th>84348301</th>\n",
       "      <td>M</td>\n",
       "      <td>11.42</td>\n",
       "      <td>20.38</td>\n",
       "      <td>77.58</td>\n",
       "      <td>386.1</td>\n",
       "      <td>0.14250</td>\n",
       "      <td>0.28390</td>\n",
       "      <td>0.2414</td>\n",
       "      <td>0.10520</td>\n",
       "      <td>0.2597</td>\n",
       "      <td>...</td>\n",
       "      <td>14.91</td>\n",
       "      <td>26.50</td>\n",
       "      <td>98.87</td>\n",
       "      <td>567.7</td>\n",
       "      <td>0.2098</td>\n",
       "      <td>0.8663</td>\n",
       "      <td>0.6869</td>\n",
       "      <td>0.2575</td>\n",
       "      <td>0.6638</td>\n",
       "      <td>0.17300</td>\n",
       "    </tr>\n",
       "    <tr>\n",
       "      <th>84358402</th>\n",
       "      <td>M</td>\n",
       "      <td>20.29</td>\n",
       "      <td>14.34</td>\n",
       "      <td>135.10</td>\n",
       "      <td>1297.0</td>\n",
       "      <td>0.10030</td>\n",
       "      <td>0.13280</td>\n",
       "      <td>0.1980</td>\n",
       "      <td>0.10430</td>\n",
       "      <td>0.1809</td>\n",
       "      <td>...</td>\n",
       "      <td>22.54</td>\n",
       "      <td>16.67</td>\n",
       "      <td>152.20</td>\n",
       "      <td>1575.0</td>\n",
       "      <td>0.1374</td>\n",
       "      <td>0.2050</td>\n",
       "      <td>0.4000</td>\n",
       "      <td>0.1625</td>\n",
       "      <td>0.2364</td>\n",
       "      <td>0.07678</td>\n",
       "    </tr>\n",
       "  </tbody>\n",
       "</table>\n",
       "<p>5 rows × 31 columns</p>\n",
       "</div>"
      ],
      "text/plain": [
       "         diagnosis  radius_mean  texture_mean  perimeter_mean  area_mean  \\\n",
       "id                                                                         \n",
       "842302           M        17.99         10.38          122.80     1001.0   \n",
       "842517           M        20.57         17.77          132.90     1326.0   \n",
       "84300903         M        19.69         21.25          130.00     1203.0   \n",
       "84348301         M        11.42         20.38           77.58      386.1   \n",
       "84358402         M        20.29         14.34          135.10     1297.0   \n",
       "\n",
       "          smoothness_mean  compactness_mean  concavity_mean  \\\n",
       "id                                                            \n",
       "842302            0.11840           0.27760          0.3001   \n",
       "842517            0.08474           0.07864          0.0869   \n",
       "84300903          0.10960           0.15990          0.1974   \n",
       "84348301          0.14250           0.28390          0.2414   \n",
       "84358402          0.10030           0.13280          0.1980   \n",
       "\n",
       "          concave points_mean  symmetry_mean  ...  radius_worst  \\\n",
       "id                                            ...                 \n",
       "842302                0.14710         0.2419  ...         25.38   \n",
       "842517                0.07017         0.1812  ...         24.99   \n",
       "84300903              0.12790         0.2069  ...         23.57   \n",
       "84348301              0.10520         0.2597  ...         14.91   \n",
       "84358402              0.10430         0.1809  ...         22.54   \n",
       "\n",
       "          texture_worst  perimeter_worst  area_worst  smoothness_worst  \\\n",
       "id                                                                       \n",
       "842302            17.33           184.60      2019.0            0.1622   \n",
       "842517            23.41           158.80      1956.0            0.1238   \n",
       "84300903          25.53           152.50      1709.0            0.1444   \n",
       "84348301          26.50            98.87       567.7            0.2098   \n",
       "84358402          16.67           152.20      1575.0            0.1374   \n",
       "\n",
       "          compactness_worst  concavity_worst  concave points_worst  \\\n",
       "id                                                                   \n",
       "842302               0.6656           0.7119                0.2654   \n",
       "842517               0.1866           0.2416                0.1860   \n",
       "84300903             0.4245           0.4504                0.2430   \n",
       "84348301             0.8663           0.6869                0.2575   \n",
       "84358402             0.2050           0.4000                0.1625   \n",
       "\n",
       "          symmetry_worst  fractal_dimension_worst  \n",
       "id                                                 \n",
       "842302            0.4601                  0.11890  \n",
       "842517            0.2750                  0.08902  \n",
       "84300903          0.3613                  0.08758  \n",
       "84348301          0.6638                  0.17300  \n",
       "84358402          0.2364                  0.07678  \n",
       "\n",
       "[5 rows x 31 columns]"
      ]
     },
     "execution_count": 3,
     "metadata": {},
     "output_type": "execute_result"
    }
   ],
   "source": [
    "df.head()"
   ]
  },
  {
   "cell_type": "markdown",
   "id": "142c72bd",
   "metadata": {
    "papermill": {
     "duration": 0.007108,
     "end_time": "2025-05-05T11:14:41.492644",
     "exception": false,
     "start_time": "2025-05-05T11:14:41.485536",
     "status": "completed"
    },
    "tags": []
   },
   "source": [
    "# Exploring the data:"
   ]
  },
  {
   "cell_type": "code",
   "execution_count": 4,
   "id": "cbdbb315",
   "metadata": {
    "execution": {
     "iopub.execute_input": "2025-05-05T11:14:41.509313Z",
     "iopub.status.busy": "2025-05-05T11:14:41.508669Z",
     "iopub.status.idle": "2025-05-05T11:14:41.514047Z",
     "shell.execute_reply": "2025-05-05T11:14:41.513250Z"
    },
    "papermill": {
     "duration": 0.015068,
     "end_time": "2025-05-05T11:14:41.515492",
     "exception": false,
     "start_time": "2025-05-05T11:14:41.500424",
     "status": "completed"
    },
    "tags": []
   },
   "outputs": [
    {
     "data": {
      "text/plain": [
       "(569, 31)"
      ]
     },
     "execution_count": 4,
     "metadata": {},
     "output_type": "execute_result"
    }
   ],
   "source": [
    "df.shape"
   ]
  },
  {
   "cell_type": "code",
   "execution_count": 5,
   "id": "ad357404",
   "metadata": {
    "execution": {
     "iopub.execute_input": "2025-05-05T11:14:41.532331Z",
     "iopub.status.busy": "2025-05-05T11:14:41.531538Z",
     "iopub.status.idle": "2025-05-05T11:14:41.551389Z",
     "shell.execute_reply": "2025-05-05T11:14:41.549970Z"
    },
    "papermill": {
     "duration": 0.029688,
     "end_time": "2025-05-05T11:14:41.552950",
     "exception": false,
     "start_time": "2025-05-05T11:14:41.523262",
     "status": "completed"
    },
    "tags": []
   },
   "outputs": [
    {
     "name": "stdout",
     "output_type": "stream",
     "text": [
      "<class 'pandas.core.frame.DataFrame'>\n",
      "Index: 569 entries, 842302 to 92751\n",
      "Data columns (total 31 columns):\n",
      " #   Column                   Non-Null Count  Dtype  \n",
      "---  ------                   --------------  -----  \n",
      " 0   diagnosis                569 non-null    object \n",
      " 1   radius_mean              569 non-null    float64\n",
      " 2   texture_mean             569 non-null    float64\n",
      " 3   perimeter_mean           569 non-null    float64\n",
      " 4   area_mean                569 non-null    float64\n",
      " 5   smoothness_mean          569 non-null    float64\n",
      " 6   compactness_mean         569 non-null    float64\n",
      " 7   concavity_mean           569 non-null    float64\n",
      " 8   concave points_mean      569 non-null    float64\n",
      " 9   symmetry_mean            569 non-null    float64\n",
      " 10  fractal_dimension_mean   569 non-null    float64\n",
      " 11  radius_se                569 non-null    float64\n",
      " 12  texture_se               569 non-null    float64\n",
      " 13  perimeter_se             569 non-null    float64\n",
      " 14  area_se                  569 non-null    float64\n",
      " 15  smoothness_se            569 non-null    float64\n",
      " 16  compactness_se           569 non-null    float64\n",
      " 17  concavity_se             569 non-null    float64\n",
      " 18  concave points_se        569 non-null    float64\n",
      " 19  symmetry_se              569 non-null    float64\n",
      " 20  fractal_dimension_se     569 non-null    float64\n",
      " 21  radius_worst             569 non-null    float64\n",
      " 22  texture_worst            569 non-null    float64\n",
      " 23  perimeter_worst          569 non-null    float64\n",
      " 24  area_worst               569 non-null    float64\n",
      " 25  smoothness_worst         569 non-null    float64\n",
      " 26  compactness_worst        569 non-null    float64\n",
      " 27  concavity_worst          569 non-null    float64\n",
      " 28  concave points_worst     569 non-null    float64\n",
      " 29  symmetry_worst           569 non-null    float64\n",
      " 30  fractal_dimension_worst  569 non-null    float64\n",
      "dtypes: float64(30), object(1)\n",
      "memory usage: 142.2+ KB\n"
     ]
    }
   ],
   "source": [
    "df.info()"
   ]
  },
  {
   "cell_type": "code",
   "execution_count": 6,
   "id": "1988da04",
   "metadata": {
    "execution": {
     "iopub.execute_input": "2025-05-05T11:14:41.569562Z",
     "iopub.status.busy": "2025-05-05T11:14:41.569294Z",
     "iopub.status.idle": "2025-05-05T11:14:41.576008Z",
     "shell.execute_reply": "2025-05-05T11:14:41.575275Z"
    },
    "papermill": {
     "duration": 0.016661,
     "end_time": "2025-05-05T11:14:41.577471",
     "exception": false,
     "start_time": "2025-05-05T11:14:41.560810",
     "status": "completed"
    },
    "tags": []
   },
   "outputs": [
    {
     "data": {
      "text/plain": [
       "diagnosis\n",
       "B    357\n",
       "M    212\n",
       "Name: count, dtype: int64"
      ]
     },
     "execution_count": 6,
     "metadata": {},
     "output_type": "execute_result"
    }
   ],
   "source": [
    "df['diagnosis'].value_counts()"
   ]
  },
  {
   "cell_type": "code",
   "execution_count": 7,
   "id": "8b5aeb6b",
   "metadata": {
    "execution": {
     "iopub.execute_input": "2025-05-05T11:14:41.594422Z",
     "iopub.status.busy": "2025-05-05T11:14:41.593688Z",
     "iopub.status.idle": "2025-05-05T11:14:41.652914Z",
     "shell.execute_reply": "2025-05-05T11:14:41.652076Z"
    },
    "papermill": {
     "duration": 0.069251,
     "end_time": "2025-05-05T11:14:41.654549",
     "exception": false,
     "start_time": "2025-05-05T11:14:41.585298",
     "status": "completed"
    },
    "tags": []
   },
   "outputs": [
    {
     "data": {
      "text/html": [
       "<div>\n",
       "<style scoped>\n",
       "    .dataframe tbody tr th:only-of-type {\n",
       "        vertical-align: middle;\n",
       "    }\n",
       "\n",
       "    .dataframe tbody tr th {\n",
       "        vertical-align: top;\n",
       "    }\n",
       "\n",
       "    .dataframe thead th {\n",
       "        text-align: right;\n",
       "    }\n",
       "</style>\n",
       "<table border=\"1\" class=\"dataframe\">\n",
       "  <thead>\n",
       "    <tr style=\"text-align: right;\">\n",
       "      <th></th>\n",
       "      <th>radius_mean</th>\n",
       "      <th>texture_mean</th>\n",
       "      <th>perimeter_mean</th>\n",
       "      <th>area_mean</th>\n",
       "      <th>smoothness_mean</th>\n",
       "      <th>compactness_mean</th>\n",
       "      <th>concavity_mean</th>\n",
       "      <th>concave points_mean</th>\n",
       "      <th>symmetry_mean</th>\n",
       "      <th>fractal_dimension_mean</th>\n",
       "      <th>...</th>\n",
       "      <th>radius_worst</th>\n",
       "      <th>texture_worst</th>\n",
       "      <th>perimeter_worst</th>\n",
       "      <th>area_worst</th>\n",
       "      <th>smoothness_worst</th>\n",
       "      <th>compactness_worst</th>\n",
       "      <th>concavity_worst</th>\n",
       "      <th>concave points_worst</th>\n",
       "      <th>symmetry_worst</th>\n",
       "      <th>fractal_dimension_worst</th>\n",
       "    </tr>\n",
       "  </thead>\n",
       "  <tbody>\n",
       "    <tr>\n",
       "      <th>count</th>\n",
       "      <td>569.000000</td>\n",
       "      <td>569.000000</td>\n",
       "      <td>569.000000</td>\n",
       "      <td>569.000000</td>\n",
       "      <td>569.000000</td>\n",
       "      <td>569.000000</td>\n",
       "      <td>569.000000</td>\n",
       "      <td>569.000000</td>\n",
       "      <td>569.000000</td>\n",
       "      <td>569.000000</td>\n",
       "      <td>...</td>\n",
       "      <td>569.000000</td>\n",
       "      <td>569.000000</td>\n",
       "      <td>569.000000</td>\n",
       "      <td>569.000000</td>\n",
       "      <td>569.000000</td>\n",
       "      <td>569.000000</td>\n",
       "      <td>569.000000</td>\n",
       "      <td>569.000000</td>\n",
       "      <td>569.000000</td>\n",
       "      <td>569.000000</td>\n",
       "    </tr>\n",
       "    <tr>\n",
       "      <th>mean</th>\n",
       "      <td>14.127292</td>\n",
       "      <td>19.289649</td>\n",
       "      <td>91.969033</td>\n",
       "      <td>654.889104</td>\n",
       "      <td>0.096360</td>\n",
       "      <td>0.104341</td>\n",
       "      <td>0.088799</td>\n",
       "      <td>0.048919</td>\n",
       "      <td>0.181162</td>\n",
       "      <td>0.062798</td>\n",
       "      <td>...</td>\n",
       "      <td>16.269190</td>\n",
       "      <td>25.677223</td>\n",
       "      <td>107.261213</td>\n",
       "      <td>880.583128</td>\n",
       "      <td>0.132369</td>\n",
       "      <td>0.254265</td>\n",
       "      <td>0.272188</td>\n",
       "      <td>0.114606</td>\n",
       "      <td>0.290076</td>\n",
       "      <td>0.083946</td>\n",
       "    </tr>\n",
       "    <tr>\n",
       "      <th>std</th>\n",
       "      <td>3.524049</td>\n",
       "      <td>4.301036</td>\n",
       "      <td>24.298981</td>\n",
       "      <td>351.914129</td>\n",
       "      <td>0.014064</td>\n",
       "      <td>0.052813</td>\n",
       "      <td>0.079720</td>\n",
       "      <td>0.038803</td>\n",
       "      <td>0.027414</td>\n",
       "      <td>0.007060</td>\n",
       "      <td>...</td>\n",
       "      <td>4.833242</td>\n",
       "      <td>6.146258</td>\n",
       "      <td>33.602542</td>\n",
       "      <td>569.356993</td>\n",
       "      <td>0.022832</td>\n",
       "      <td>0.157336</td>\n",
       "      <td>0.208624</td>\n",
       "      <td>0.065732</td>\n",
       "      <td>0.061867</td>\n",
       "      <td>0.018061</td>\n",
       "    </tr>\n",
       "    <tr>\n",
       "      <th>min</th>\n",
       "      <td>6.981000</td>\n",
       "      <td>9.710000</td>\n",
       "      <td>43.790000</td>\n",
       "      <td>143.500000</td>\n",
       "      <td>0.052630</td>\n",
       "      <td>0.019380</td>\n",
       "      <td>0.000000</td>\n",
       "      <td>0.000000</td>\n",
       "      <td>0.106000</td>\n",
       "      <td>0.049960</td>\n",
       "      <td>...</td>\n",
       "      <td>7.930000</td>\n",
       "      <td>12.020000</td>\n",
       "      <td>50.410000</td>\n",
       "      <td>185.200000</td>\n",
       "      <td>0.071170</td>\n",
       "      <td>0.027290</td>\n",
       "      <td>0.000000</td>\n",
       "      <td>0.000000</td>\n",
       "      <td>0.156500</td>\n",
       "      <td>0.055040</td>\n",
       "    </tr>\n",
       "    <tr>\n",
       "      <th>25%</th>\n",
       "      <td>11.700000</td>\n",
       "      <td>16.170000</td>\n",
       "      <td>75.170000</td>\n",
       "      <td>420.300000</td>\n",
       "      <td>0.086370</td>\n",
       "      <td>0.064920</td>\n",
       "      <td>0.029560</td>\n",
       "      <td>0.020310</td>\n",
       "      <td>0.161900</td>\n",
       "      <td>0.057700</td>\n",
       "      <td>...</td>\n",
       "      <td>13.010000</td>\n",
       "      <td>21.080000</td>\n",
       "      <td>84.110000</td>\n",
       "      <td>515.300000</td>\n",
       "      <td>0.116600</td>\n",
       "      <td>0.147200</td>\n",
       "      <td>0.114500</td>\n",
       "      <td>0.064930</td>\n",
       "      <td>0.250400</td>\n",
       "      <td>0.071460</td>\n",
       "    </tr>\n",
       "    <tr>\n",
       "      <th>50%</th>\n",
       "      <td>13.370000</td>\n",
       "      <td>18.840000</td>\n",
       "      <td>86.240000</td>\n",
       "      <td>551.100000</td>\n",
       "      <td>0.095870</td>\n",
       "      <td>0.092630</td>\n",
       "      <td>0.061540</td>\n",
       "      <td>0.033500</td>\n",
       "      <td>0.179200</td>\n",
       "      <td>0.061540</td>\n",
       "      <td>...</td>\n",
       "      <td>14.970000</td>\n",
       "      <td>25.410000</td>\n",
       "      <td>97.660000</td>\n",
       "      <td>686.500000</td>\n",
       "      <td>0.131300</td>\n",
       "      <td>0.211900</td>\n",
       "      <td>0.226700</td>\n",
       "      <td>0.099930</td>\n",
       "      <td>0.282200</td>\n",
       "      <td>0.080040</td>\n",
       "    </tr>\n",
       "    <tr>\n",
       "      <th>75%</th>\n",
       "      <td>15.780000</td>\n",
       "      <td>21.800000</td>\n",
       "      <td>104.100000</td>\n",
       "      <td>782.700000</td>\n",
       "      <td>0.105300</td>\n",
       "      <td>0.130400</td>\n",
       "      <td>0.130700</td>\n",
       "      <td>0.074000</td>\n",
       "      <td>0.195700</td>\n",
       "      <td>0.066120</td>\n",
       "      <td>...</td>\n",
       "      <td>18.790000</td>\n",
       "      <td>29.720000</td>\n",
       "      <td>125.400000</td>\n",
       "      <td>1084.000000</td>\n",
       "      <td>0.146000</td>\n",
       "      <td>0.339100</td>\n",
       "      <td>0.382900</td>\n",
       "      <td>0.161400</td>\n",
       "      <td>0.317900</td>\n",
       "      <td>0.092080</td>\n",
       "    </tr>\n",
       "    <tr>\n",
       "      <th>max</th>\n",
       "      <td>28.110000</td>\n",
       "      <td>39.280000</td>\n",
       "      <td>188.500000</td>\n",
       "      <td>2501.000000</td>\n",
       "      <td>0.163400</td>\n",
       "      <td>0.345400</td>\n",
       "      <td>0.426800</td>\n",
       "      <td>0.201200</td>\n",
       "      <td>0.304000</td>\n",
       "      <td>0.097440</td>\n",
       "      <td>...</td>\n",
       "      <td>36.040000</td>\n",
       "      <td>49.540000</td>\n",
       "      <td>251.200000</td>\n",
       "      <td>4254.000000</td>\n",
       "      <td>0.222600</td>\n",
       "      <td>1.058000</td>\n",
       "      <td>1.252000</td>\n",
       "      <td>0.291000</td>\n",
       "      <td>0.663800</td>\n",
       "      <td>0.207500</td>\n",
       "    </tr>\n",
       "  </tbody>\n",
       "</table>\n",
       "<p>8 rows × 30 columns</p>\n",
       "</div>"
      ],
      "text/plain": [
       "       radius_mean  texture_mean  perimeter_mean    area_mean  \\\n",
       "count   569.000000    569.000000      569.000000   569.000000   \n",
       "mean     14.127292     19.289649       91.969033   654.889104   \n",
       "std       3.524049      4.301036       24.298981   351.914129   \n",
       "min       6.981000      9.710000       43.790000   143.500000   \n",
       "25%      11.700000     16.170000       75.170000   420.300000   \n",
       "50%      13.370000     18.840000       86.240000   551.100000   \n",
       "75%      15.780000     21.800000      104.100000   782.700000   \n",
       "max      28.110000     39.280000      188.500000  2501.000000   \n",
       "\n",
       "       smoothness_mean  compactness_mean  concavity_mean  concave points_mean  \\\n",
       "count       569.000000        569.000000      569.000000           569.000000   \n",
       "mean          0.096360          0.104341        0.088799             0.048919   \n",
       "std           0.014064          0.052813        0.079720             0.038803   \n",
       "min           0.052630          0.019380        0.000000             0.000000   \n",
       "25%           0.086370          0.064920        0.029560             0.020310   \n",
       "50%           0.095870          0.092630        0.061540             0.033500   \n",
       "75%           0.105300          0.130400        0.130700             0.074000   \n",
       "max           0.163400          0.345400        0.426800             0.201200   \n",
       "\n",
       "       symmetry_mean  fractal_dimension_mean  ...  radius_worst  \\\n",
       "count     569.000000              569.000000  ...    569.000000   \n",
       "mean        0.181162                0.062798  ...     16.269190   \n",
       "std         0.027414                0.007060  ...      4.833242   \n",
       "min         0.106000                0.049960  ...      7.930000   \n",
       "25%         0.161900                0.057700  ...     13.010000   \n",
       "50%         0.179200                0.061540  ...     14.970000   \n",
       "75%         0.195700                0.066120  ...     18.790000   \n",
       "max         0.304000                0.097440  ...     36.040000   \n",
       "\n",
       "       texture_worst  perimeter_worst   area_worst  smoothness_worst  \\\n",
       "count     569.000000       569.000000   569.000000        569.000000   \n",
       "mean       25.677223       107.261213   880.583128          0.132369   \n",
       "std         6.146258        33.602542   569.356993          0.022832   \n",
       "min        12.020000        50.410000   185.200000          0.071170   \n",
       "25%        21.080000        84.110000   515.300000          0.116600   \n",
       "50%        25.410000        97.660000   686.500000          0.131300   \n",
       "75%        29.720000       125.400000  1084.000000          0.146000   \n",
       "max        49.540000       251.200000  4254.000000          0.222600   \n",
       "\n",
       "       compactness_worst  concavity_worst  concave points_worst  \\\n",
       "count         569.000000       569.000000            569.000000   \n",
       "mean            0.254265         0.272188              0.114606   \n",
       "std             0.157336         0.208624              0.065732   \n",
       "min             0.027290         0.000000              0.000000   \n",
       "25%             0.147200         0.114500              0.064930   \n",
       "50%             0.211900         0.226700              0.099930   \n",
       "75%             0.339100         0.382900              0.161400   \n",
       "max             1.058000         1.252000              0.291000   \n",
       "\n",
       "       symmetry_worst  fractal_dimension_worst  \n",
       "count      569.000000               569.000000  \n",
       "mean         0.290076                 0.083946  \n",
       "std          0.061867                 0.018061  \n",
       "min          0.156500                 0.055040  \n",
       "25%          0.250400                 0.071460  \n",
       "50%          0.282200                 0.080040  \n",
       "75%          0.317900                 0.092080  \n",
       "max          0.663800                 0.207500  \n",
       "\n",
       "[8 rows x 30 columns]"
      ]
     },
     "execution_count": 7,
     "metadata": {},
     "output_type": "execute_result"
    }
   ],
   "source": [
    "df.describe()"
   ]
  },
  {
   "cell_type": "code",
   "execution_count": 8,
   "id": "075e907b",
   "metadata": {
    "execution": {
     "iopub.execute_input": "2025-05-05T11:14:41.671903Z",
     "iopub.status.busy": "2025-05-05T11:14:41.671562Z",
     "iopub.status.idle": "2025-05-05T11:14:43.513899Z",
     "shell.execute_reply": "2025-05-05T11:14:43.512954Z"
    },
    "papermill": {
     "duration": 1.853045,
     "end_time": "2025-05-05T11:14:43.515784",
     "exception": false,
     "start_time": "2025-05-05T11:14:41.662739",
     "status": "completed"
    },
    "tags": []
   },
   "outputs": [],
   "source": [
    "import matplotlib.pyplot as plt\n",
    "import seaborn as sns"
   ]
  },
  {
   "cell_type": "markdown",
   "id": "1c7841d0",
   "metadata": {
    "papermill": {
     "duration": 0.007586,
     "end_time": "2025-05-05T11:14:43.531373",
     "exception": false,
     "start_time": "2025-05-05T11:14:43.523787",
     "status": "completed"
    },
    "tags": []
   },
   "source": [
    "# handling the outliers:"
   ]
  },
  {
   "cell_type": "code",
   "execution_count": 9,
   "id": "3de9f48d",
   "metadata": {
    "execution": {
     "iopub.execute_input": "2025-05-05T11:14:43.548586Z",
     "iopub.status.busy": "2025-05-05T11:14:43.548022Z",
     "iopub.status.idle": "2025-05-05T11:14:43.630498Z",
     "shell.execute_reply": "2025-05-05T11:14:43.629563Z"
    },
    "papermill": {
     "duration": 0.092927,
     "end_time": "2025-05-05T11:14:43.631995",
     "exception": false,
     "start_time": "2025-05-05T11:14:43.539068",
     "status": "completed"
    },
    "tags": []
   },
   "outputs": [
    {
     "data": {
      "text/html": [
       "<div>\n",
       "<style scoped>\n",
       "    .dataframe tbody tr th:only-of-type {\n",
       "        vertical-align: middle;\n",
       "    }\n",
       "\n",
       "    .dataframe tbody tr th {\n",
       "        vertical-align: top;\n",
       "    }\n",
       "\n",
       "    .dataframe thead th {\n",
       "        text-align: right;\n",
       "    }\n",
       "</style>\n",
       "<table border=\"1\" class=\"dataframe\">\n",
       "  <thead>\n",
       "    <tr style=\"text-align: right;\">\n",
       "      <th></th>\n",
       "      <th>diagnosis</th>\n",
       "      <th>radius_mean</th>\n",
       "      <th>texture_mean</th>\n",
       "      <th>perimeter_mean</th>\n",
       "      <th>area_mean</th>\n",
       "      <th>smoothness_mean</th>\n",
       "      <th>compactness_mean</th>\n",
       "      <th>concavity_mean</th>\n",
       "      <th>concave points_mean</th>\n",
       "      <th>symmetry_mean</th>\n",
       "      <th>...</th>\n",
       "      <th>radius_worst</th>\n",
       "      <th>texture_worst</th>\n",
       "      <th>perimeter_worst</th>\n",
       "      <th>area_worst</th>\n",
       "      <th>smoothness_worst</th>\n",
       "      <th>compactness_worst</th>\n",
       "      <th>concavity_worst</th>\n",
       "      <th>concave points_worst</th>\n",
       "      <th>symmetry_worst</th>\n",
       "      <th>fractal_dimension_worst</th>\n",
       "    </tr>\n",
       "    <tr>\n",
       "      <th>id</th>\n",
       "      <th></th>\n",
       "      <th></th>\n",
       "      <th></th>\n",
       "      <th></th>\n",
       "      <th></th>\n",
       "      <th></th>\n",
       "      <th></th>\n",
       "      <th></th>\n",
       "      <th></th>\n",
       "      <th></th>\n",
       "      <th></th>\n",
       "      <th></th>\n",
       "      <th></th>\n",
       "      <th></th>\n",
       "      <th></th>\n",
       "      <th></th>\n",
       "      <th></th>\n",
       "      <th></th>\n",
       "      <th></th>\n",
       "      <th></th>\n",
       "      <th></th>\n",
       "    </tr>\n",
       "  </thead>\n",
       "  <tbody>\n",
       "    <tr>\n",
       "      <th>842302</th>\n",
       "      <td>M</td>\n",
       "      <td>17.99</td>\n",
       "      <td>10.38</td>\n",
       "      <td>122.80</td>\n",
       "      <td>1001.0</td>\n",
       "      <td>0.118400</td>\n",
       "      <td>0.22862</td>\n",
       "      <td>0.28241</td>\n",
       "      <td>0.14710</td>\n",
       "      <td>0.2419</td>\n",
       "      <td>...</td>\n",
       "      <td>25.38</td>\n",
       "      <td>17.33</td>\n",
       "      <td>184.60</td>\n",
       "      <td>1937.05</td>\n",
       "      <td>0.1622</td>\n",
       "      <td>0.62695</td>\n",
       "      <td>0.7119</td>\n",
       "      <td>0.2654</td>\n",
       "      <td>0.41915</td>\n",
       "      <td>0.11890</td>\n",
       "    </tr>\n",
       "    <tr>\n",
       "      <th>842517</th>\n",
       "      <td>M</td>\n",
       "      <td>20.57</td>\n",
       "      <td>17.77</td>\n",
       "      <td>132.90</td>\n",
       "      <td>1326.0</td>\n",
       "      <td>0.084740</td>\n",
       "      <td>0.07864</td>\n",
       "      <td>0.08690</td>\n",
       "      <td>0.07017</td>\n",
       "      <td>0.1812</td>\n",
       "      <td>...</td>\n",
       "      <td>24.99</td>\n",
       "      <td>23.41</td>\n",
       "      <td>158.80</td>\n",
       "      <td>1937.05</td>\n",
       "      <td>0.1238</td>\n",
       "      <td>0.18660</td>\n",
       "      <td>0.2416</td>\n",
       "      <td>0.1860</td>\n",
       "      <td>0.27500</td>\n",
       "      <td>0.08902</td>\n",
       "    </tr>\n",
       "    <tr>\n",
       "      <th>84300903</th>\n",
       "      <td>M</td>\n",
       "      <td>19.69</td>\n",
       "      <td>21.25</td>\n",
       "      <td>130.00</td>\n",
       "      <td>1203.0</td>\n",
       "      <td>0.109600</td>\n",
       "      <td>0.15990</td>\n",
       "      <td>0.19740</td>\n",
       "      <td>0.12790</td>\n",
       "      <td>0.2069</td>\n",
       "      <td>...</td>\n",
       "      <td>23.57</td>\n",
       "      <td>25.53</td>\n",
       "      <td>152.50</td>\n",
       "      <td>1709.00</td>\n",
       "      <td>0.1444</td>\n",
       "      <td>0.42450</td>\n",
       "      <td>0.4504</td>\n",
       "      <td>0.2430</td>\n",
       "      <td>0.36130</td>\n",
       "      <td>0.08758</td>\n",
       "    </tr>\n",
       "    <tr>\n",
       "      <th>84348301</th>\n",
       "      <td>M</td>\n",
       "      <td>11.42</td>\n",
       "      <td>20.38</td>\n",
       "      <td>77.58</td>\n",
       "      <td>386.1</td>\n",
       "      <td>0.133695</td>\n",
       "      <td>0.22862</td>\n",
       "      <td>0.24140</td>\n",
       "      <td>0.10520</td>\n",
       "      <td>0.2464</td>\n",
       "      <td>...</td>\n",
       "      <td>14.91</td>\n",
       "      <td>26.50</td>\n",
       "      <td>98.87</td>\n",
       "      <td>567.70</td>\n",
       "      <td>0.1901</td>\n",
       "      <td>0.62695</td>\n",
       "      <td>0.6869</td>\n",
       "      <td>0.2575</td>\n",
       "      <td>0.41915</td>\n",
       "      <td>0.12301</td>\n",
       "    </tr>\n",
       "    <tr>\n",
       "      <th>84358402</th>\n",
       "      <td>M</td>\n",
       "      <td>20.29</td>\n",
       "      <td>14.34</td>\n",
       "      <td>135.10</td>\n",
       "      <td>1297.0</td>\n",
       "      <td>0.100300</td>\n",
       "      <td>0.13280</td>\n",
       "      <td>0.19800</td>\n",
       "      <td>0.10430</td>\n",
       "      <td>0.1809</td>\n",
       "      <td>...</td>\n",
       "      <td>22.54</td>\n",
       "      <td>16.67</td>\n",
       "      <td>152.20</td>\n",
       "      <td>1575.00</td>\n",
       "      <td>0.1374</td>\n",
       "      <td>0.20500</td>\n",
       "      <td>0.4000</td>\n",
       "      <td>0.1625</td>\n",
       "      <td>0.23640</td>\n",
       "      <td>0.07678</td>\n",
       "    </tr>\n",
       "  </tbody>\n",
       "</table>\n",
       "<p>5 rows × 31 columns</p>\n",
       "</div>"
      ],
      "text/plain": [
       "         diagnosis  radius_mean  texture_mean  perimeter_mean  area_mean  \\\n",
       "id                                                                         \n",
       "842302           M        17.99         10.38          122.80     1001.0   \n",
       "842517           M        20.57         17.77          132.90     1326.0   \n",
       "84300903         M        19.69         21.25          130.00     1203.0   \n",
       "84348301         M        11.42         20.38           77.58      386.1   \n",
       "84358402         M        20.29         14.34          135.10     1297.0   \n",
       "\n",
       "          smoothness_mean  compactness_mean  concavity_mean  \\\n",
       "id                                                            \n",
       "842302           0.118400           0.22862         0.28241   \n",
       "842517           0.084740           0.07864         0.08690   \n",
       "84300903         0.109600           0.15990         0.19740   \n",
       "84348301         0.133695           0.22862         0.24140   \n",
       "84358402         0.100300           0.13280         0.19800   \n",
       "\n",
       "          concave points_mean  symmetry_mean  ...  radius_worst  \\\n",
       "id                                            ...                 \n",
       "842302                0.14710         0.2419  ...         25.38   \n",
       "842517                0.07017         0.1812  ...         24.99   \n",
       "84300903              0.12790         0.2069  ...         23.57   \n",
       "84348301              0.10520         0.2464  ...         14.91   \n",
       "84358402              0.10430         0.1809  ...         22.54   \n",
       "\n",
       "          texture_worst  perimeter_worst  area_worst  smoothness_worst  \\\n",
       "id                                                                       \n",
       "842302            17.33           184.60     1937.05            0.1622   \n",
       "842517            23.41           158.80     1937.05            0.1238   \n",
       "84300903          25.53           152.50     1709.00            0.1444   \n",
       "84348301          26.50            98.87      567.70            0.1901   \n",
       "84358402          16.67           152.20     1575.00            0.1374   \n",
       "\n",
       "          compactness_worst  concavity_worst  concave points_worst  \\\n",
       "id                                                                   \n",
       "842302              0.62695           0.7119                0.2654   \n",
       "842517              0.18660           0.2416                0.1860   \n",
       "84300903            0.42450           0.4504                0.2430   \n",
       "84348301            0.62695           0.6869                0.2575   \n",
       "84358402            0.20500           0.4000                0.1625   \n",
       "\n",
       "          symmetry_worst  fractal_dimension_worst  \n",
       "id                                                 \n",
       "842302           0.41915                  0.11890  \n",
       "842517           0.27500                  0.08902  \n",
       "84300903         0.36130                  0.08758  \n",
       "84348301         0.41915                  0.12301  \n",
       "84358402         0.23640                  0.07678  \n",
       "\n",
       "[5 rows x 31 columns]"
      ]
     },
     "execution_count": 9,
     "metadata": {},
     "output_type": "execute_result"
    }
   ],
   "source": [
    "# Function to detect and clip outliers using IQR\n",
    "def clip_outliers_iqr(column):\n",
    "    Q1 = column.quantile(0.25)\n",
    "    Q3 = column.quantile(0.75)\n",
    "    IQR = Q3 - Q1\n",
    "    lower_bound = Q1 - 1.5 * IQR\n",
    "    upper_bound = Q3 + 1.5 * IQR\n",
    "    # Clipping the column values to the lower and upper bounds\n",
    "    return column.clip(lower=lower_bound, upper=upper_bound)\n",
    "\n",
    "# Apply the clipping function to numerical columns\n",
    "for col in df.select_dtypes(include=['float64', 'int64']).columns:\n",
    "    df[col] = clip_outliers_iqr(df[col])\n",
    "\n",
    "# Display the DataFrame after clipping\n",
    "df.head()"
   ]
  },
  {
   "cell_type": "markdown",
   "id": "51ea5422",
   "metadata": {
    "papermill": {
     "duration": 0.008054,
     "end_time": "2025-05-05T11:14:43.648542",
     "exception": false,
     "start_time": "2025-05-05T11:14:43.640488",
     "status": "completed"
    },
    "tags": []
   },
   "source": [
    "# Splitting the training and testing data:"
   ]
  },
  {
   "cell_type": "code",
   "execution_count": 10,
   "id": "fc8bc43f",
   "metadata": {
    "execution": {
     "iopub.execute_input": "2025-05-05T11:14:43.666897Z",
     "iopub.status.busy": "2025-05-05T11:14:43.665947Z",
     "iopub.status.idle": "2025-05-05T11:14:44.017591Z",
     "shell.execute_reply": "2025-05-05T11:14:44.016447Z"
    },
    "papermill": {
     "duration": 0.362792,
     "end_time": "2025-05-05T11:14:44.019538",
     "exception": false,
     "start_time": "2025-05-05T11:14:43.656746",
     "status": "completed"
    },
    "tags": []
   },
   "outputs": [],
   "source": [
    "from sklearn.model_selection import train_test_split"
   ]
  },
  {
   "cell_type": "code",
   "execution_count": 11,
   "id": "4b10c9a7",
   "metadata": {
    "execution": {
     "iopub.execute_input": "2025-05-05T11:14:44.038643Z",
     "iopub.status.busy": "2025-05-05T11:14:44.037639Z",
     "iopub.status.idle": "2025-05-05T11:14:44.044344Z",
     "shell.execute_reply": "2025-05-05T11:14:44.043626Z"
    },
    "papermill": {
     "duration": 0.017173,
     "end_time": "2025-05-05T11:14:44.045797",
     "exception": false,
     "start_time": "2025-05-05T11:14:44.028624",
     "status": "completed"
    },
    "tags": []
   },
   "outputs": [],
   "source": [
    "x=df.drop('diagnosis',axis=1)\n",
    "y=df['diagnosis']"
   ]
  },
  {
   "cell_type": "code",
   "execution_count": 12,
   "id": "1e203ab5",
   "metadata": {
    "execution": {
     "iopub.execute_input": "2025-05-05T11:14:44.063468Z",
     "iopub.status.busy": "2025-05-05T11:14:44.063183Z",
     "iopub.status.idle": "2025-05-05T11:14:44.071457Z",
     "shell.execute_reply": "2025-05-05T11:14:44.070586Z"
    },
    "papermill": {
     "duration": 0.018585,
     "end_time": "2025-05-05T11:14:44.072834",
     "exception": false,
     "start_time": "2025-05-05T11:14:44.054249",
     "status": "completed"
    },
    "tags": []
   },
   "outputs": [],
   "source": [
    "x_train,x_test,y_train,y_test=train_test_split(x,y,test_size=0.2,random_state=42)"
   ]
  },
  {
   "cell_type": "code",
   "execution_count": 13,
   "id": "fa55d0b5",
   "metadata": {
    "execution": {
     "iopub.execute_input": "2025-05-05T11:14:44.090756Z",
     "iopub.status.busy": "2025-05-05T11:14:44.090092Z",
     "iopub.status.idle": "2025-05-05T11:14:44.113674Z",
     "shell.execute_reply": "2025-05-05T11:14:44.112690Z"
    },
    "papermill": {
     "duration": 0.03397,
     "end_time": "2025-05-05T11:14:44.115158",
     "exception": false,
     "start_time": "2025-05-05T11:14:44.081188",
     "status": "completed"
    },
    "tags": []
   },
   "outputs": [
    {
     "data": {
      "text/html": [
       "<div>\n",
       "<style scoped>\n",
       "    .dataframe tbody tr th:only-of-type {\n",
       "        vertical-align: middle;\n",
       "    }\n",
       "\n",
       "    .dataframe tbody tr th {\n",
       "        vertical-align: top;\n",
       "    }\n",
       "\n",
       "    .dataframe thead th {\n",
       "        text-align: right;\n",
       "    }\n",
       "</style>\n",
       "<table border=\"1\" class=\"dataframe\">\n",
       "  <thead>\n",
       "    <tr style=\"text-align: right;\">\n",
       "      <th></th>\n",
       "      <th>radius_mean</th>\n",
       "      <th>texture_mean</th>\n",
       "      <th>perimeter_mean</th>\n",
       "      <th>area_mean</th>\n",
       "      <th>smoothness_mean</th>\n",
       "      <th>compactness_mean</th>\n",
       "      <th>concavity_mean</th>\n",
       "      <th>concave points_mean</th>\n",
       "      <th>symmetry_mean</th>\n",
       "      <th>fractal_dimension_mean</th>\n",
       "      <th>...</th>\n",
       "      <th>radius_worst</th>\n",
       "      <th>texture_worst</th>\n",
       "      <th>perimeter_worst</th>\n",
       "      <th>area_worst</th>\n",
       "      <th>smoothness_worst</th>\n",
       "      <th>compactness_worst</th>\n",
       "      <th>concavity_worst</th>\n",
       "      <th>concave points_worst</th>\n",
       "      <th>symmetry_worst</th>\n",
       "      <th>fractal_dimension_worst</th>\n",
       "    </tr>\n",
       "    <tr>\n",
       "      <th>id</th>\n",
       "      <th></th>\n",
       "      <th></th>\n",
       "      <th></th>\n",
       "      <th></th>\n",
       "      <th></th>\n",
       "      <th></th>\n",
       "      <th></th>\n",
       "      <th></th>\n",
       "      <th></th>\n",
       "      <th></th>\n",
       "      <th></th>\n",
       "      <th></th>\n",
       "      <th></th>\n",
       "      <th></th>\n",
       "      <th></th>\n",
       "      <th></th>\n",
       "      <th></th>\n",
       "      <th></th>\n",
       "      <th></th>\n",
       "      <th></th>\n",
       "      <th></th>\n",
       "    </tr>\n",
       "  </thead>\n",
       "  <tbody>\n",
       "    <tr>\n",
       "      <th>859471</th>\n",
       "      <td>9.029</td>\n",
       "      <td>17.33</td>\n",
       "      <td>58.79</td>\n",
       "      <td>250.5</td>\n",
       "      <td>0.10660</td>\n",
       "      <td>0.14130</td>\n",
       "      <td>0.28241</td>\n",
       "      <td>0.04375</td>\n",
       "      <td>0.2111</td>\n",
       "      <td>0.07875</td>\n",
       "      <td>...</td>\n",
       "      <td>10.31</td>\n",
       "      <td>22.65</td>\n",
       "      <td>65.50</td>\n",
       "      <td>324.70</td>\n",
       "      <td>0.14820</td>\n",
       "      <td>0.43650</td>\n",
       "      <td>0.78550</td>\n",
       "      <td>0.17500</td>\n",
       "      <td>0.41915</td>\n",
       "      <td>0.11750</td>\n",
       "    </tr>\n",
       "    <tr>\n",
       "      <th>873593</th>\n",
       "      <td>21.090</td>\n",
       "      <td>26.57</td>\n",
       "      <td>142.70</td>\n",
       "      <td>1311.0</td>\n",
       "      <td>0.11410</td>\n",
       "      <td>0.22862</td>\n",
       "      <td>0.24870</td>\n",
       "      <td>0.14960</td>\n",
       "      <td>0.2395</td>\n",
       "      <td>0.07398</td>\n",
       "      <td>...</td>\n",
       "      <td>26.68</td>\n",
       "      <td>33.48</td>\n",
       "      <td>176.50</td>\n",
       "      <td>1937.05</td>\n",
       "      <td>0.14910</td>\n",
       "      <td>0.62695</td>\n",
       "      <td>0.67800</td>\n",
       "      <td>0.29030</td>\n",
       "      <td>0.40980</td>\n",
       "      <td>0.12301</td>\n",
       "    </tr>\n",
       "    <tr>\n",
       "      <th>859196</th>\n",
       "      <td>9.173</td>\n",
       "      <td>13.86</td>\n",
       "      <td>59.20</td>\n",
       "      <td>260.9</td>\n",
       "      <td>0.07721</td>\n",
       "      <td>0.08751</td>\n",
       "      <td>0.05988</td>\n",
       "      <td>0.02180</td>\n",
       "      <td>0.2341</td>\n",
       "      <td>0.06963</td>\n",
       "      <td>...</td>\n",
       "      <td>10.01</td>\n",
       "      <td>19.23</td>\n",
       "      <td>65.59</td>\n",
       "      <td>310.10</td>\n",
       "      <td>0.09836</td>\n",
       "      <td>0.16780</td>\n",
       "      <td>0.13970</td>\n",
       "      <td>0.05087</td>\n",
       "      <td>0.32820</td>\n",
       "      <td>0.08490</td>\n",
       "    </tr>\n",
       "    <tr>\n",
       "      <th>88466802</th>\n",
       "      <td>10.650</td>\n",
       "      <td>25.22</td>\n",
       "      <td>68.01</td>\n",
       "      <td>347.0</td>\n",
       "      <td>0.09657</td>\n",
       "      <td>0.07234</td>\n",
       "      <td>0.02379</td>\n",
       "      <td>0.01615</td>\n",
       "      <td>0.1897</td>\n",
       "      <td>0.06329</td>\n",
       "      <td>...</td>\n",
       "      <td>12.25</td>\n",
       "      <td>35.19</td>\n",
       "      <td>77.98</td>\n",
       "      <td>455.70</td>\n",
       "      <td>0.14990</td>\n",
       "      <td>0.13980</td>\n",
       "      <td>0.11250</td>\n",
       "      <td>0.06136</td>\n",
       "      <td>0.34090</td>\n",
       "      <td>0.08147</td>\n",
       "    </tr>\n",
       "    <tr>\n",
       "      <th>858970</th>\n",
       "      <td>10.170</td>\n",
       "      <td>14.88</td>\n",
       "      <td>64.55</td>\n",
       "      <td>311.9</td>\n",
       "      <td>0.11340</td>\n",
       "      <td>0.08061</td>\n",
       "      <td>0.01084</td>\n",
       "      <td>0.01290</td>\n",
       "      <td>0.2464</td>\n",
       "      <td>0.06960</td>\n",
       "      <td>...</td>\n",
       "      <td>11.02</td>\n",
       "      <td>17.45</td>\n",
       "      <td>69.86</td>\n",
       "      <td>368.60</td>\n",
       "      <td>0.12750</td>\n",
       "      <td>0.09866</td>\n",
       "      <td>0.02168</td>\n",
       "      <td>0.02579</td>\n",
       "      <td>0.35570</td>\n",
       "      <td>0.08020</td>\n",
       "    </tr>\n",
       "  </tbody>\n",
       "</table>\n",
       "<p>5 rows × 30 columns</p>\n",
       "</div>"
      ],
      "text/plain": [
       "          radius_mean  texture_mean  perimeter_mean  area_mean  \\\n",
       "id                                                               \n",
       "859471          9.029         17.33           58.79      250.5   \n",
       "873593         21.090         26.57          142.70     1311.0   \n",
       "859196          9.173         13.86           59.20      260.9   \n",
       "88466802       10.650         25.22           68.01      347.0   \n",
       "858970         10.170         14.88           64.55      311.9   \n",
       "\n",
       "          smoothness_mean  compactness_mean  concavity_mean  \\\n",
       "id                                                            \n",
       "859471            0.10660           0.14130         0.28241   \n",
       "873593            0.11410           0.22862         0.24870   \n",
       "859196            0.07721           0.08751         0.05988   \n",
       "88466802          0.09657           0.07234         0.02379   \n",
       "858970            0.11340           0.08061         0.01084   \n",
       "\n",
       "          concave points_mean  symmetry_mean  fractal_dimension_mean  ...  \\\n",
       "id                                                                    ...   \n",
       "859471                0.04375         0.2111                 0.07875  ...   \n",
       "873593                0.14960         0.2395                 0.07398  ...   \n",
       "859196                0.02180         0.2341                 0.06963  ...   \n",
       "88466802              0.01615         0.1897                 0.06329  ...   \n",
       "858970                0.01290         0.2464                 0.06960  ...   \n",
       "\n",
       "          radius_worst  texture_worst  perimeter_worst  area_worst  \\\n",
       "id                                                                   \n",
       "859471           10.31          22.65            65.50      324.70   \n",
       "873593           26.68          33.48           176.50     1937.05   \n",
       "859196           10.01          19.23            65.59      310.10   \n",
       "88466802         12.25          35.19            77.98      455.70   \n",
       "858970           11.02          17.45            69.86      368.60   \n",
       "\n",
       "          smoothness_worst  compactness_worst  concavity_worst  \\\n",
       "id                                                               \n",
       "859471             0.14820            0.43650          0.78550   \n",
       "873593             0.14910            0.62695          0.67800   \n",
       "859196             0.09836            0.16780          0.13970   \n",
       "88466802           0.14990            0.13980          0.11250   \n",
       "858970             0.12750            0.09866          0.02168   \n",
       "\n",
       "          concave points_worst  symmetry_worst  fractal_dimension_worst  \n",
       "id                                                                       \n",
       "859471                 0.17500         0.41915                  0.11750  \n",
       "873593                 0.29030         0.40980                  0.12301  \n",
       "859196                 0.05087         0.32820                  0.08490  \n",
       "88466802               0.06136         0.34090                  0.08147  \n",
       "858970                 0.02579         0.35570                  0.08020  \n",
       "\n",
       "[5 rows x 30 columns]"
      ]
     },
     "execution_count": 13,
     "metadata": {},
     "output_type": "execute_result"
    }
   ],
   "source": [
    "x_train.head()"
   ]
  },
  {
   "cell_type": "code",
   "execution_count": 14,
   "id": "5424add6",
   "metadata": {
    "execution": {
     "iopub.execute_input": "2025-05-05T11:14:44.222510Z",
     "iopub.status.busy": "2025-05-05T11:14:44.221680Z",
     "iopub.status.idle": "2025-05-05T11:14:44.227072Z",
     "shell.execute_reply": "2025-05-05T11:14:44.226271Z"
    },
    "papermill": {
     "duration": 0.10427,
     "end_time": "2025-05-05T11:14:44.228571",
     "exception": false,
     "start_time": "2025-05-05T11:14:44.124301",
     "status": "completed"
    },
    "tags": []
   },
   "outputs": [
    {
     "data": {
      "text/plain": [
       "(455, 30)"
      ]
     },
     "execution_count": 14,
     "metadata": {},
     "output_type": "execute_result"
    }
   ],
   "source": [
    "x_train.shape"
   ]
  },
  {
   "cell_type": "markdown",
   "id": "8a5c3c02",
   "metadata": {
    "papermill": {
     "duration": 0.008589,
     "end_time": "2025-05-05T11:14:44.246160",
     "exception": false,
     "start_time": "2025-05-05T11:14:44.237571",
     "status": "completed"
    },
    "tags": []
   },
   "source": [
    "# Scaleing the training data:"
   ]
  },
  {
   "cell_type": "code",
   "execution_count": 15,
   "id": "adb33459",
   "metadata": {
    "execution": {
     "iopub.execute_input": "2025-05-05T11:14:44.266661Z",
     "iopub.status.busy": "2025-05-05T11:14:44.265792Z",
     "iopub.status.idle": "2025-05-05T11:14:44.270015Z",
     "shell.execute_reply": "2025-05-05T11:14:44.269178Z"
    },
    "papermill": {
     "duration": 0.015573,
     "end_time": "2025-05-05T11:14:44.271611",
     "exception": false,
     "start_time": "2025-05-05T11:14:44.256038",
     "status": "completed"
    },
    "tags": []
   },
   "outputs": [],
   "source": [
    "from sklearn.preprocessing import StandardScaler"
   ]
  },
  {
   "cell_type": "code",
   "execution_count": 16,
   "id": "d14546cf",
   "metadata": {
    "execution": {
     "iopub.execute_input": "2025-05-05T11:14:44.290576Z",
     "iopub.status.busy": "2025-05-05T11:14:44.289732Z",
     "iopub.status.idle": "2025-05-05T11:14:44.293954Z",
     "shell.execute_reply": "2025-05-05T11:14:44.293151Z"
    },
    "papermill": {
     "duration": 0.015378,
     "end_time": "2025-05-05T11:14:44.295696",
     "exception": false,
     "start_time": "2025-05-05T11:14:44.280318",
     "status": "completed"
    },
    "tags": []
   },
   "outputs": [],
   "source": [
    "ss=StandardScaler()"
   ]
  },
  {
   "cell_type": "code",
   "execution_count": 17,
   "id": "5d8eed21",
   "metadata": {
    "execution": {
     "iopub.execute_input": "2025-05-05T11:14:44.314366Z",
     "iopub.status.busy": "2025-05-05T11:14:44.313980Z",
     "iopub.status.idle": "2025-05-05T11:14:44.341398Z",
     "shell.execute_reply": "2025-05-05T11:14:44.340346Z"
    },
    "papermill": {
     "duration": 0.038761,
     "end_time": "2025-05-05T11:14:44.343286",
     "exception": false,
     "start_time": "2025-05-05T11:14:44.304525",
     "status": "completed"
    },
    "tags": []
   },
   "outputs": [],
   "source": [
    "x_train_transform=ss.fit_transform(x_train)\n",
    "x_test_transform=ss.transform(x_test)"
   ]
  },
  {
   "cell_type": "markdown",
   "id": "36de801e",
   "metadata": {
    "papermill": {
     "duration": 0.008505,
     "end_time": "2025-05-05T11:14:44.361389",
     "exception": false,
     "start_time": "2025-05-05T11:14:44.352884",
     "status": "completed"
    },
    "tags": []
   },
   "source": [
    "# Encoding the target column:"
   ]
  },
  {
   "cell_type": "code",
   "execution_count": 18,
   "id": "491da152",
   "metadata": {
    "execution": {
     "iopub.execute_input": "2025-05-05T11:14:44.380483Z",
     "iopub.status.busy": "2025-05-05T11:14:44.379561Z",
     "iopub.status.idle": "2025-05-05T11:14:44.384137Z",
     "shell.execute_reply": "2025-05-05T11:14:44.383305Z"
    },
    "papermill": {
     "duration": 0.015662,
     "end_time": "2025-05-05T11:14:44.385535",
     "exception": false,
     "start_time": "2025-05-05T11:14:44.369873",
     "status": "completed"
    },
    "tags": []
   },
   "outputs": [],
   "source": [
    "from sklearn.preprocessing import LabelEncoder"
   ]
  },
  {
   "cell_type": "code",
   "execution_count": 19,
   "id": "33757d56",
   "metadata": {
    "execution": {
     "iopub.execute_input": "2025-05-05T11:14:44.404416Z",
     "iopub.status.busy": "2025-05-05T11:14:44.404144Z",
     "iopub.status.idle": "2025-05-05T11:14:44.408322Z",
     "shell.execute_reply": "2025-05-05T11:14:44.407522Z"
    },
    "papermill": {
     "duration": 0.015201,
     "end_time": "2025-05-05T11:14:44.409669",
     "exception": false,
     "start_time": "2025-05-05T11:14:44.394468",
     "status": "completed"
    },
    "tags": []
   },
   "outputs": [],
   "source": [
    "le=LabelEncoder()"
   ]
  },
  {
   "cell_type": "code",
   "execution_count": 20,
   "id": "5610dc8e",
   "metadata": {
    "execution": {
     "iopub.execute_input": "2025-05-05T11:14:44.428873Z",
     "iopub.status.busy": "2025-05-05T11:14:44.428047Z",
     "iopub.status.idle": "2025-05-05T11:14:44.432792Z",
     "shell.execute_reply": "2025-05-05T11:14:44.432055Z"
    },
    "papermill": {
     "duration": 0.015823,
     "end_time": "2025-05-05T11:14:44.434428",
     "exception": false,
     "start_time": "2025-05-05T11:14:44.418605",
     "status": "completed"
    },
    "tags": []
   },
   "outputs": [],
   "source": [
    "y_train_encoded=le.fit_transform(y_train)\n",
    "y_test_encoded=le.transform(y_test)"
   ]
  },
  {
   "cell_type": "markdown",
   "id": "92c3cfce",
   "metadata": {
    "papermill": {
     "duration": 0.008211,
     "end_time": "2025-05-05T11:14:44.451635",
     "exception": false,
     "start_time": "2025-05-05T11:14:44.443424",
     "status": "completed"
    },
    "tags": []
   },
   "source": [
    "# Training the model using svm:"
   ]
  },
  {
   "cell_type": "code",
   "execution_count": 21,
   "id": "c5e2230e",
   "metadata": {
    "execution": {
     "iopub.execute_input": "2025-05-05T11:14:44.470744Z",
     "iopub.status.busy": "2025-05-05T11:14:44.469766Z",
     "iopub.status.idle": "2025-05-05T11:14:44.571873Z",
     "shell.execute_reply": "2025-05-05T11:14:44.570995Z"
    },
    "papermill": {
     "duration": 0.113402,
     "end_time": "2025-05-05T11:14:44.573502",
     "exception": false,
     "start_time": "2025-05-05T11:14:44.460100",
     "status": "completed"
    },
    "tags": []
   },
   "outputs": [],
   "source": [
    "from sklearn.svm import SVC"
   ]
  },
  {
   "cell_type": "code",
   "execution_count": 22,
   "id": "523d348e",
   "metadata": {
    "execution": {
     "iopub.execute_input": "2025-05-05T11:14:44.594089Z",
     "iopub.status.busy": "2025-05-05T11:14:44.592865Z",
     "iopub.status.idle": "2025-05-05T11:14:44.598108Z",
     "shell.execute_reply": "2025-05-05T11:14:44.597297Z"
    },
    "papermill": {
     "duration": 0.017353,
     "end_time": "2025-05-05T11:14:44.599678",
     "exception": false,
     "start_time": "2025-05-05T11:14:44.582325",
     "status": "completed"
    },
    "tags": []
   },
   "outputs": [],
   "source": [
    "svm_model_linear=SVC(kernel='linear',C=1.0)"
   ]
  },
  {
   "cell_type": "code",
   "execution_count": 23,
   "id": "79ae2039",
   "metadata": {
    "execution": {
     "iopub.execute_input": "2025-05-05T11:14:44.618049Z",
     "iopub.status.busy": "2025-05-05T11:14:44.617763Z",
     "iopub.status.idle": "2025-05-05T11:14:44.636328Z",
     "shell.execute_reply": "2025-05-05T11:14:44.635344Z"
    },
    "papermill": {
     "duration": 0.029555,
     "end_time": "2025-05-05T11:14:44.637837",
     "exception": false,
     "start_time": "2025-05-05T11:14:44.608282",
     "status": "completed"
    },
    "tags": []
   },
   "outputs": [
    {
     "data": {
      "text/html": [
       "<style>#sk-container-id-1 {color: black;background-color: white;}#sk-container-id-1 pre{padding: 0;}#sk-container-id-1 div.sk-toggleable {background-color: white;}#sk-container-id-1 label.sk-toggleable__label {cursor: pointer;display: block;width: 100%;margin-bottom: 0;padding: 0.3em;box-sizing: border-box;text-align: center;}#sk-container-id-1 label.sk-toggleable__label-arrow:before {content: \"▸\";float: left;margin-right: 0.25em;color: #696969;}#sk-container-id-1 label.sk-toggleable__label-arrow:hover:before {color: black;}#sk-container-id-1 div.sk-estimator:hover label.sk-toggleable__label-arrow:before {color: black;}#sk-container-id-1 div.sk-toggleable__content {max-height: 0;max-width: 0;overflow: hidden;text-align: left;background-color: #f0f8ff;}#sk-container-id-1 div.sk-toggleable__content pre {margin: 0.2em;color: black;border-radius: 0.25em;background-color: #f0f8ff;}#sk-container-id-1 input.sk-toggleable__control:checked~div.sk-toggleable__content {max-height: 200px;max-width: 100%;overflow: auto;}#sk-container-id-1 input.sk-toggleable__control:checked~label.sk-toggleable__label-arrow:before {content: \"▾\";}#sk-container-id-1 div.sk-estimator input.sk-toggleable__control:checked~label.sk-toggleable__label {background-color: #d4ebff;}#sk-container-id-1 div.sk-label input.sk-toggleable__control:checked~label.sk-toggleable__label {background-color: #d4ebff;}#sk-container-id-1 input.sk-hidden--visually {border: 0;clip: rect(1px 1px 1px 1px);clip: rect(1px, 1px, 1px, 1px);height: 1px;margin: -1px;overflow: hidden;padding: 0;position: absolute;width: 1px;}#sk-container-id-1 div.sk-estimator {font-family: monospace;background-color: #f0f8ff;border: 1px dotted black;border-radius: 0.25em;box-sizing: border-box;margin-bottom: 0.5em;}#sk-container-id-1 div.sk-estimator:hover {background-color: #d4ebff;}#sk-container-id-1 div.sk-parallel-item::after {content: \"\";width: 100%;border-bottom: 1px solid gray;flex-grow: 1;}#sk-container-id-1 div.sk-label:hover label.sk-toggleable__label {background-color: #d4ebff;}#sk-container-id-1 div.sk-serial::before {content: \"\";position: absolute;border-left: 1px solid gray;box-sizing: border-box;top: 0;bottom: 0;left: 50%;z-index: 0;}#sk-container-id-1 div.sk-serial {display: flex;flex-direction: column;align-items: center;background-color: white;padding-right: 0.2em;padding-left: 0.2em;position: relative;}#sk-container-id-1 div.sk-item {position: relative;z-index: 1;}#sk-container-id-1 div.sk-parallel {display: flex;align-items: stretch;justify-content: center;background-color: white;position: relative;}#sk-container-id-1 div.sk-item::before, #sk-container-id-1 div.sk-parallel-item::before {content: \"\";position: absolute;border-left: 1px solid gray;box-sizing: border-box;top: 0;bottom: 0;left: 50%;z-index: -1;}#sk-container-id-1 div.sk-parallel-item {display: flex;flex-direction: column;z-index: 1;position: relative;background-color: white;}#sk-container-id-1 div.sk-parallel-item:first-child::after {align-self: flex-end;width: 50%;}#sk-container-id-1 div.sk-parallel-item:last-child::after {align-self: flex-start;width: 50%;}#sk-container-id-1 div.sk-parallel-item:only-child::after {width: 0;}#sk-container-id-1 div.sk-dashed-wrapped {border: 1px dashed gray;margin: 0 0.4em 0.5em 0.4em;box-sizing: border-box;padding-bottom: 0.4em;background-color: white;}#sk-container-id-1 div.sk-label label {font-family: monospace;font-weight: bold;display: inline-block;line-height: 1.2em;}#sk-container-id-1 div.sk-label-container {text-align: center;}#sk-container-id-1 div.sk-container {/* jupyter's `normalize.less` sets `[hidden] { display: none; }` but bootstrap.min.css set `[hidden] { display: none !important; }` so we also need the `!important` here to be able to override the default hidden behavior on the sphinx rendered scikit-learn.org. See: https://github.com/scikit-learn/scikit-learn/issues/21755 */display: inline-block !important;position: relative;}#sk-container-id-1 div.sk-text-repr-fallback {display: none;}</style><div id=\"sk-container-id-1\" class=\"sk-top-container\"><div class=\"sk-text-repr-fallback\"><pre>SVC(kernel=&#x27;linear&#x27;)</pre><b>In a Jupyter environment, please rerun this cell to show the HTML representation or trust the notebook. <br />On GitHub, the HTML representation is unable to render, please try loading this page with nbviewer.org.</b></div><div class=\"sk-container\" hidden><div class=\"sk-item\"><div class=\"sk-estimator sk-toggleable\"><input class=\"sk-toggleable__control sk-hidden--visually\" id=\"sk-estimator-id-1\" type=\"checkbox\" checked><label for=\"sk-estimator-id-1\" class=\"sk-toggleable__label sk-toggleable__label-arrow\">SVC</label><div class=\"sk-toggleable__content\"><pre>SVC(kernel=&#x27;linear&#x27;)</pre></div></div></div></div></div>"
      ],
      "text/plain": [
       "SVC(kernel='linear')"
      ]
     },
     "execution_count": 23,
     "metadata": {},
     "output_type": "execute_result"
    }
   ],
   "source": [
    "svm_model_linear.fit(x_train_transform,y_train_encoded)"
   ]
  },
  {
   "cell_type": "code",
   "execution_count": 24,
   "id": "17a11e96",
   "metadata": {
    "execution": {
     "iopub.execute_input": "2025-05-05T11:14:44.657557Z",
     "iopub.status.busy": "2025-05-05T11:14:44.657270Z",
     "iopub.status.idle": "2025-05-05T11:14:44.662186Z",
     "shell.execute_reply": "2025-05-05T11:14:44.661366Z"
    },
    "papermill": {
     "duration": 0.016237,
     "end_time": "2025-05-05T11:14:44.663669",
     "exception": false,
     "start_time": "2025-05-05T11:14:44.647432",
     "status": "completed"
    },
    "tags": []
   },
   "outputs": [],
   "source": [
    "y_pred_linear=svm_model_linear.predict(x_test_transform)"
   ]
  },
  {
   "cell_type": "markdown",
   "id": "417d5013",
   "metadata": {
    "papermill": {
     "duration": 0.00914,
     "end_time": "2025-05-05T11:14:44.681861",
     "exception": false,
     "start_time": "2025-05-05T11:14:44.672721",
     "status": "completed"
    },
    "tags": []
   },
   "source": [
    "# Evaluating the model:"
   ]
  },
  {
   "cell_type": "code",
   "execution_count": 25,
   "id": "ac37015d",
   "metadata": {
    "execution": {
     "iopub.execute_input": "2025-05-05T11:14:44.701558Z",
     "iopub.status.busy": "2025-05-05T11:14:44.700796Z",
     "iopub.status.idle": "2025-05-05T11:14:44.704822Z",
     "shell.execute_reply": "2025-05-05T11:14:44.703906Z"
    },
    "papermill": {
     "duration": 0.015595,
     "end_time": "2025-05-05T11:14:44.706420",
     "exception": false,
     "start_time": "2025-05-05T11:14:44.690825",
     "status": "completed"
    },
    "tags": []
   },
   "outputs": [],
   "source": [
    "from sklearn.metrics import accuracy_score"
   ]
  },
  {
   "cell_type": "code",
   "execution_count": 26,
   "id": "a8ae5ea3",
   "metadata": {
    "execution": {
     "iopub.execute_input": "2025-05-05T11:14:44.725893Z",
     "iopub.status.busy": "2025-05-05T11:14:44.724966Z",
     "iopub.status.idle": "2025-05-05T11:14:44.731521Z",
     "shell.execute_reply": "2025-05-05T11:14:44.730598Z"
    },
    "papermill": {
     "duration": 0.017359,
     "end_time": "2025-05-05T11:14:44.732853",
     "exception": false,
     "start_time": "2025-05-05T11:14:44.715494",
     "status": "completed"
    },
    "tags": []
   },
   "outputs": [
    {
     "data": {
      "text/plain": [
       "0.9649122807017544"
      ]
     },
     "execution_count": 26,
     "metadata": {},
     "output_type": "execute_result"
    }
   ],
   "source": [
    "accuracy_score(y_test_encoded,y_pred_linear)"
   ]
  },
  {
   "cell_type": "markdown",
   "id": "dd345b72",
   "metadata": {
    "papermill": {
     "duration": 0.008458,
     "end_time": "2025-05-05T11:14:44.750182",
     "exception": false,
     "start_time": "2025-05-05T11:14:44.741724",
     "status": "completed"
    },
    "tags": []
   },
   "source": [
    "# Training the model using non_linear_kernel"
   ]
  },
  {
   "cell_type": "code",
   "execution_count": 27,
   "id": "aaf38299",
   "metadata": {
    "execution": {
     "iopub.execute_input": "2025-05-05T11:14:44.768828Z",
     "iopub.status.busy": "2025-05-05T11:14:44.768541Z",
     "iopub.status.idle": "2025-05-05T11:14:44.772855Z",
     "shell.execute_reply": "2025-05-05T11:14:44.772028Z"
    },
    "papermill": {
     "duration": 0.015406,
     "end_time": "2025-05-05T11:14:44.774210",
     "exception": false,
     "start_time": "2025-05-05T11:14:44.758804",
     "status": "completed"
    },
    "tags": []
   },
   "outputs": [],
   "source": [
    "svm_non_linear=SVC(kernel='rbf',C=1.0)"
   ]
  },
  {
   "cell_type": "code",
   "execution_count": 28,
   "id": "995bc948",
   "metadata": {
    "execution": {
     "iopub.execute_input": "2025-05-05T11:14:44.793231Z",
     "iopub.status.busy": "2025-05-05T11:14:44.792512Z",
     "iopub.status.idle": "2025-05-05T11:14:44.804188Z",
     "shell.execute_reply": "2025-05-05T11:14:44.803328Z"
    },
    "papermill": {
     "duration": 0.0227,
     "end_time": "2025-05-05T11:14:44.805563",
     "exception": false,
     "start_time": "2025-05-05T11:14:44.782863",
     "status": "completed"
    },
    "tags": []
   },
   "outputs": [
    {
     "data": {
      "text/html": [
       "<style>#sk-container-id-2 {color: black;background-color: white;}#sk-container-id-2 pre{padding: 0;}#sk-container-id-2 div.sk-toggleable {background-color: white;}#sk-container-id-2 label.sk-toggleable__label {cursor: pointer;display: block;width: 100%;margin-bottom: 0;padding: 0.3em;box-sizing: border-box;text-align: center;}#sk-container-id-2 label.sk-toggleable__label-arrow:before {content: \"▸\";float: left;margin-right: 0.25em;color: #696969;}#sk-container-id-2 label.sk-toggleable__label-arrow:hover:before {color: black;}#sk-container-id-2 div.sk-estimator:hover label.sk-toggleable__label-arrow:before {color: black;}#sk-container-id-2 div.sk-toggleable__content {max-height: 0;max-width: 0;overflow: hidden;text-align: left;background-color: #f0f8ff;}#sk-container-id-2 div.sk-toggleable__content pre {margin: 0.2em;color: black;border-radius: 0.25em;background-color: #f0f8ff;}#sk-container-id-2 input.sk-toggleable__control:checked~div.sk-toggleable__content {max-height: 200px;max-width: 100%;overflow: auto;}#sk-container-id-2 input.sk-toggleable__control:checked~label.sk-toggleable__label-arrow:before {content: \"▾\";}#sk-container-id-2 div.sk-estimator input.sk-toggleable__control:checked~label.sk-toggleable__label {background-color: #d4ebff;}#sk-container-id-2 div.sk-label input.sk-toggleable__control:checked~label.sk-toggleable__label {background-color: #d4ebff;}#sk-container-id-2 input.sk-hidden--visually {border: 0;clip: rect(1px 1px 1px 1px);clip: rect(1px, 1px, 1px, 1px);height: 1px;margin: -1px;overflow: hidden;padding: 0;position: absolute;width: 1px;}#sk-container-id-2 div.sk-estimator {font-family: monospace;background-color: #f0f8ff;border: 1px dotted black;border-radius: 0.25em;box-sizing: border-box;margin-bottom: 0.5em;}#sk-container-id-2 div.sk-estimator:hover {background-color: #d4ebff;}#sk-container-id-2 div.sk-parallel-item::after {content: \"\";width: 100%;border-bottom: 1px solid gray;flex-grow: 1;}#sk-container-id-2 div.sk-label:hover label.sk-toggleable__label {background-color: #d4ebff;}#sk-container-id-2 div.sk-serial::before {content: \"\";position: absolute;border-left: 1px solid gray;box-sizing: border-box;top: 0;bottom: 0;left: 50%;z-index: 0;}#sk-container-id-2 div.sk-serial {display: flex;flex-direction: column;align-items: center;background-color: white;padding-right: 0.2em;padding-left: 0.2em;position: relative;}#sk-container-id-2 div.sk-item {position: relative;z-index: 1;}#sk-container-id-2 div.sk-parallel {display: flex;align-items: stretch;justify-content: center;background-color: white;position: relative;}#sk-container-id-2 div.sk-item::before, #sk-container-id-2 div.sk-parallel-item::before {content: \"\";position: absolute;border-left: 1px solid gray;box-sizing: border-box;top: 0;bottom: 0;left: 50%;z-index: -1;}#sk-container-id-2 div.sk-parallel-item {display: flex;flex-direction: column;z-index: 1;position: relative;background-color: white;}#sk-container-id-2 div.sk-parallel-item:first-child::after {align-self: flex-end;width: 50%;}#sk-container-id-2 div.sk-parallel-item:last-child::after {align-self: flex-start;width: 50%;}#sk-container-id-2 div.sk-parallel-item:only-child::after {width: 0;}#sk-container-id-2 div.sk-dashed-wrapped {border: 1px dashed gray;margin: 0 0.4em 0.5em 0.4em;box-sizing: border-box;padding-bottom: 0.4em;background-color: white;}#sk-container-id-2 div.sk-label label {font-family: monospace;font-weight: bold;display: inline-block;line-height: 1.2em;}#sk-container-id-2 div.sk-label-container {text-align: center;}#sk-container-id-2 div.sk-container {/* jupyter's `normalize.less` sets `[hidden] { display: none; }` but bootstrap.min.css set `[hidden] { display: none !important; }` so we also need the `!important` here to be able to override the default hidden behavior on the sphinx rendered scikit-learn.org. See: https://github.com/scikit-learn/scikit-learn/issues/21755 */display: inline-block !important;position: relative;}#sk-container-id-2 div.sk-text-repr-fallback {display: none;}</style><div id=\"sk-container-id-2\" class=\"sk-top-container\"><div class=\"sk-text-repr-fallback\"><pre>SVC()</pre><b>In a Jupyter environment, please rerun this cell to show the HTML representation or trust the notebook. <br />On GitHub, the HTML representation is unable to render, please try loading this page with nbviewer.org.</b></div><div class=\"sk-container\" hidden><div class=\"sk-item\"><div class=\"sk-estimator sk-toggleable\"><input class=\"sk-toggleable__control sk-hidden--visually\" id=\"sk-estimator-id-2\" type=\"checkbox\" checked><label for=\"sk-estimator-id-2\" class=\"sk-toggleable__label sk-toggleable__label-arrow\">SVC</label><div class=\"sk-toggleable__content\"><pre>SVC()</pre></div></div></div></div></div>"
      ],
      "text/plain": [
       "SVC()"
      ]
     },
     "execution_count": 28,
     "metadata": {},
     "output_type": "execute_result"
    }
   ],
   "source": [
    "svm_non_linear.fit(x_train_transform,y_train_encoded)"
   ]
  },
  {
   "cell_type": "code",
   "execution_count": 29,
   "id": "e0106ff0",
   "metadata": {
    "execution": {
     "iopub.execute_input": "2025-05-05T11:14:44.825469Z",
     "iopub.status.busy": "2025-05-05T11:14:44.824437Z",
     "iopub.status.idle": "2025-05-05T11:14:44.830692Z",
     "shell.execute_reply": "2025-05-05T11:14:44.829809Z"
    },
    "papermill": {
     "duration": 0.017705,
     "end_time": "2025-05-05T11:14:44.832072",
     "exception": false,
     "start_time": "2025-05-05T11:14:44.814367",
     "status": "completed"
    },
    "tags": []
   },
   "outputs": [],
   "source": [
    "y_pred_non_line=svm_non_linear.predict(x_test_transform)"
   ]
  },
  {
   "cell_type": "markdown",
   "id": "72d8072c",
   "metadata": {
    "papermill": {
     "duration": 0.008601,
     "end_time": "2025-05-05T11:14:44.849625",
     "exception": false,
     "start_time": "2025-05-05T11:14:44.841024",
     "status": "completed"
    },
    "tags": []
   },
   "source": [
    "# Evaluating the model:"
   ]
  },
  {
   "cell_type": "code",
   "execution_count": 30,
   "id": "bd69caa7",
   "metadata": {
    "execution": {
     "iopub.execute_input": "2025-05-05T11:14:44.868900Z",
     "iopub.status.busy": "2025-05-05T11:14:44.868562Z",
     "iopub.status.idle": "2025-05-05T11:14:44.876300Z",
     "shell.execute_reply": "2025-05-05T11:14:44.875478Z"
    },
    "papermill": {
     "duration": 0.019296,
     "end_time": "2025-05-05T11:14:44.877850",
     "exception": false,
     "start_time": "2025-05-05T11:14:44.858554",
     "status": "completed"
    },
    "tags": []
   },
   "outputs": [
    {
     "data": {
      "text/plain": [
       "0.9736842105263158"
      ]
     },
     "execution_count": 30,
     "metadata": {},
     "output_type": "execute_result"
    }
   ],
   "source": [
    "accuracy_score(y_test_encoded,y_pred_non_line)"
   ]
  },
  {
   "cell_type": "markdown",
   "id": "e3a7e9aa",
   "metadata": {
    "papermill": {
     "duration": 0.008974,
     "end_time": "2025-05-05T11:14:44.896633",
     "exception": false,
     "start_time": "2025-05-05T11:14:44.887659",
     "status": "completed"
    },
    "tags": []
   },
   "source": [
    "# model Evaluation: \n",
    "    -> here as we can see that using the non linear kernel imporve the accuracy of the model."
   ]
  },
  {
   "cell_type": "markdown",
   "id": "8bb606c8",
   "metadata": {
    "papermill": {
     "duration": 0.008927,
     "end_time": "2025-05-05T11:14:44.914738",
     "exception": false,
     "start_time": "2025-05-05T11:14:44.905811",
     "status": "completed"
    },
    "tags": []
   },
   "source": [
    "# Applying the cross_val_score for linear and non_linear model:"
   ]
  },
  {
   "cell_type": "markdown",
   "id": "997047aa",
   "metadata": {
    "papermill": {
     "duration": 0.008886,
     "end_time": "2025-05-05T11:14:44.932725",
     "exception": false,
     "start_time": "2025-05-05T11:14:44.923839",
     "status": "completed"
    },
    "tags": []
   },
   "source": [
    "### linear:"
   ]
  },
  {
   "cell_type": "code",
   "execution_count": 31,
   "id": "d0bdcbf3",
   "metadata": {
    "execution": {
     "iopub.execute_input": "2025-05-05T11:14:44.952229Z",
     "iopub.status.busy": "2025-05-05T11:14:44.951842Z",
     "iopub.status.idle": "2025-05-05T11:14:44.956403Z",
     "shell.execute_reply": "2025-05-05T11:14:44.955506Z"
    },
    "papermill": {
     "duration": 0.016066,
     "end_time": "2025-05-05T11:14:44.957806",
     "exception": false,
     "start_time": "2025-05-05T11:14:44.941740",
     "status": "completed"
    },
    "tags": []
   },
   "outputs": [],
   "source": [
    "from sklearn.model_selection import cross_val_score"
   ]
  },
  {
   "cell_type": "code",
   "execution_count": 32,
   "id": "bb1f1e3f",
   "metadata": {
    "execution": {
     "iopub.execute_input": "2025-05-05T11:14:44.978567Z",
     "iopub.status.busy": "2025-05-05T11:14:44.977526Z",
     "iopub.status.idle": "2025-05-05T11:14:45.020493Z",
     "shell.execute_reply": "2025-05-05T11:14:45.019596Z"
    },
    "papermill": {
     "duration": 0.054953,
     "end_time": "2025-05-05T11:14:45.022179",
     "exception": false,
     "start_time": "2025-05-05T11:14:44.967226",
     "status": "completed"
    },
    "tags": []
   },
   "outputs": [],
   "source": [
    "cv_score=cross_val_score(svm_model_linear,x_train_transform,y_train_encoded,cv=10)"
   ]
  },
  {
   "cell_type": "code",
   "execution_count": 33,
   "id": "f220d386",
   "metadata": {
    "execution": {
     "iopub.execute_input": "2025-05-05T11:14:45.042941Z",
     "iopub.status.busy": "2025-05-05T11:14:45.041750Z",
     "iopub.status.idle": "2025-05-05T11:14:45.047985Z",
     "shell.execute_reply": "2025-05-05T11:14:45.047187Z"
    },
    "papermill": {
     "duration": 0.018056,
     "end_time": "2025-05-05T11:14:45.049399",
     "exception": false,
     "start_time": "2025-05-05T11:14:45.031343",
     "status": "completed"
    },
    "tags": []
   },
   "outputs": [
    {
     "data": {
      "text/plain": [
       "array([1.        , 0.97826087, 0.97826087, 0.93478261, 0.97826087,\n",
       "       1.        , 1.        , 0.95555556, 0.95555556, 0.97777778])"
      ]
     },
     "execution_count": 33,
     "metadata": {},
     "output_type": "execute_result"
    }
   ],
   "source": [
    "cv_score"
   ]
  },
  {
   "cell_type": "code",
   "execution_count": 34,
   "id": "47a3ac52",
   "metadata": {
    "execution": {
     "iopub.execute_input": "2025-05-05T11:14:45.069466Z",
     "iopub.status.busy": "2025-05-05T11:14:45.068555Z",
     "iopub.status.idle": "2025-05-05T11:14:45.074467Z",
     "shell.execute_reply": "2025-05-05T11:14:45.073672Z"
    },
    "papermill": {
     "duration": 0.017512,
     "end_time": "2025-05-05T11:14:45.075991",
     "exception": false,
     "start_time": "2025-05-05T11:14:45.058479",
     "status": "completed"
    },
    "tags": []
   },
   "outputs": [
    {
     "data": {
      "text/plain": [
       "0.9758454106280194"
      ]
     },
     "execution_count": 34,
     "metadata": {},
     "output_type": "execute_result"
    }
   ],
   "source": [
    "cv_score.mean()"
   ]
  },
  {
   "cell_type": "markdown",
   "id": "dc80dda9",
   "metadata": {
    "papermill": {
     "duration": 0.009294,
     "end_time": "2025-05-05T11:14:45.095767",
     "exception": false,
     "start_time": "2025-05-05T11:14:45.086473",
     "status": "completed"
    },
    "tags": []
   },
   "source": [
    "# Non_linear:"
   ]
  },
  {
   "cell_type": "code",
   "execution_count": 35,
   "id": "607a3753",
   "metadata": {
    "execution": {
     "iopub.execute_input": "2025-05-05T11:14:45.116286Z",
     "iopub.status.busy": "2025-05-05T11:14:45.115926Z",
     "iopub.status.idle": "2025-05-05T11:14:45.168975Z",
     "shell.execute_reply": "2025-05-05T11:14:45.167778Z"
    },
    "papermill": {
     "duration": 0.065669,
     "end_time": "2025-05-05T11:14:45.170903",
     "exception": false,
     "start_time": "2025-05-05T11:14:45.105234",
     "status": "completed"
    },
    "tags": []
   },
   "outputs": [],
   "source": [
    "cv_score_non_lin=cross_val_score(svm_non_linear,x_train_transform,y_train_encoded,cv=10)"
   ]
  },
  {
   "cell_type": "code",
   "execution_count": 36,
   "id": "ac59239c",
   "metadata": {
    "execution": {
     "iopub.execute_input": "2025-05-05T11:14:45.192018Z",
     "iopub.status.busy": "2025-05-05T11:14:45.191700Z",
     "iopub.status.idle": "2025-05-05T11:14:45.198029Z",
     "shell.execute_reply": "2025-05-05T11:14:45.197190Z"
    },
    "papermill": {
     "duration": 0.019026,
     "end_time": "2025-05-05T11:14:45.199921",
     "exception": false,
     "start_time": "2025-05-05T11:14:45.180895",
     "status": "completed"
    },
    "tags": []
   },
   "outputs": [
    {
     "data": {
      "text/plain": [
       "0.9735748792270531"
      ]
     },
     "execution_count": 36,
     "metadata": {},
     "output_type": "execute_result"
    }
   ],
   "source": [
    "cv_score_non_lin.mean()"
   ]
  },
  {
   "cell_type": "code",
   "execution_count": null,
   "id": "c96cffab",
   "metadata": {
    "papermill": {
     "duration": 0.009593,
     "end_time": "2025-05-05T11:14:45.219579",
     "exception": false,
     "start_time": "2025-05-05T11:14:45.209986",
     "status": "completed"
    },
    "tags": []
   },
   "outputs": [],
   "source": []
  }
 ],
 "metadata": {
  "kaggle": {
   "accelerator": "none",
   "dataSources": [
    {
     "datasetId": 1829286,
     "sourceId": 2984728,
     "sourceType": "datasetVersion"
    }
   ],
   "dockerImageVersionId": 31012,
   "isGpuEnabled": false,
   "isInternetEnabled": true,
   "language": "python",
   "sourceType": "notebook"
  },
  "kernelspec": {
   "display_name": "Python 3",
   "language": "python",
   "name": "python3"
  },
  "language_info": {
   "codemirror_mode": {
    "name": "ipython",
    "version": 3
   },
   "file_extension": ".py",
   "mimetype": "text/x-python",
   "name": "python",
   "nbconvert_exporter": "python",
   "pygments_lexer": "ipython3",
   "version": "3.11.11"
  },
  "papermill": {
   "default_parameters": {},
   "duration": 11.420919,
   "end_time": "2025-05-05T11:14:46.151790",
   "environment_variables": {},
   "exception": null,
   "input_path": "__notebook__.ipynb",
   "output_path": "__notebook__.ipynb",
   "parameters": {},
   "start_time": "2025-05-05T11:14:34.730871",
   "version": "2.6.0"
  }
 },
 "nbformat": 4,
 "nbformat_minor": 5
}
